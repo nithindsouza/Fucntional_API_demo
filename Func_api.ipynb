{
  "nbformat": 4,
  "nbformat_minor": 0,
  "metadata": {
    "colab": {
      "name": "Func_api.ipynb",
      "provenance": [],
      "collapsed_sections": [],
      "authorship_tag": "ABX9TyPTobwfSHKWZiofep4aPO5h",
      "include_colab_link": true
    },
    "kernelspec": {
      "name": "python3",
      "display_name": "Python 3"
    },
    "language_info": {
      "name": "python"
    },
    "accelerator": "GPU"
  },
  "cells": [
    {
      "cell_type": "markdown",
      "metadata": {
        "id": "view-in-github",
        "colab_type": "text"
      },
      "source": [
        "<a href=\"https://colab.research.google.com/github/nithindsouza/Fucntional_API_demo/blob/main/Func_api.ipynb\" target=\"_parent\"><img src=\"https://colab.research.google.com/assets/colab-badge.svg\" alt=\"Open In Colab\"/></a>"
      ]
    },
    {
      "cell_type": "markdown",
      "metadata": {
        "id": "QY7NwADGxvx1"
      },
      "source": [
        "###\t\t\t**Module 12**\n",
        "Use Functional API to build a model on MNIST Dataset from keras"
      ]
    },
    {
      "cell_type": "code",
      "metadata": {
        "id": "6eFdwhH1x9-u"
      },
      "source": [
        "# import libraries\n",
        "import numpy as np\n",
        "import tensorflow as tf\n",
        "from tensorflow.keras.layers import Dense, Dropout, Input\n",
        "from tensorflow.keras.layers import Conv2D, MaxPooling2D, Flatten\n",
        "from tensorflow.keras.models import Model\n",
        "from tensorflow.keras.datasets import mnist\n",
        "from tensorflow.keras.utils import to_categorical"
      ],
      "execution_count": null,
      "outputs": []
    },
    {
      "cell_type": "code",
      "metadata": {
        "colab": {
          "base_uri": "https://localhost:8080/"
        },
        "id": "ll1APjagyEXF",
        "outputId": "42610967-914f-49dc-dbfe-e164f97d82ec"
      },
      "source": [
        "# load data\n",
        "(x_train, y_train), (x_test, y_test) = mnist.load_data()\n",
        "\n",
        "# convert sparse label to categorical values\n",
        "num_labels = len(np.unique(y_train))\n",
        "y_train = to_categorical(y_train)\n",
        "y_test = to_categorical(y_test)"
      ],
      "execution_count": null,
      "outputs": [
        {
          "output_type": "stream",
          "text": [
            "Downloading data from https://storage.googleapis.com/tensorflow/tf-keras-datasets/mnist.npz\n",
            "11493376/11490434 [==============================] - 0s 0us/step\n"
          ],
          "name": "stdout"
        }
      ]
    },
    {
      "cell_type": "code",
      "metadata": {
        "id": "ndMKC-SYyIQG"
      },
      "source": [
        "# preprocess the input images\n",
        "image_size = x_train.shape[1]\n",
        "x_train = np.reshape(x_train,[-1, image_size, image_size, 1])\n",
        "x_test = np.reshape(x_test,[-1, image_size, image_size, 1])\n",
        "x_train = x_train.astype('float32') / 255\n",
        "x_test = x_test.astype('float32') / 255"
      ],
      "execution_count": null,
      "outputs": []
    },
    {
      "cell_type": "code",
      "metadata": {
        "id": "C8KX95dhyIlt"
      },
      "source": [
        "# parameters for the network\n",
        "input_shape = (image_size, image_size, 1)\n",
        "batch_size = 128\n",
        "kernel_size = 3\n",
        "filters = 64\n",
        "dropout = 0.3"
      ],
      "execution_count": null,
      "outputs": []
    },
    {
      "cell_type": "code",
      "metadata": {
        "id": "wQLNp9ATyItu"
      },
      "source": [
        "# utiliaing functional API to build cnn layers\n",
        "inputs = Input(shape=input_shape)\n",
        "y = Conv2D(filters=filters,kernel_size=kernel_size,activation='relu')(inputs)\n",
        "y = MaxPooling2D()(y)\n",
        "y = Conv2D(filters=filters,kernel_size=kernel_size,activation='relu')(y)\n",
        "y = MaxPooling2D()(y)\n",
        "y = Conv2D(filters=filters,kernel_size=kernel_size,activation='relu')(y)\n",
        "# convert image to vector \n",
        "y = Flatten()(y)\n",
        "# dropout regularization\n",
        "y = Dropout(dropout)(y)\n",
        "outputs = Dense(num_labels, activation='softmax')(y)\n",
        "# model building by supplying inputs/outputs\n",
        "model = Model(inputs=inputs, outputs=outputs)"
      ],
      "execution_count": null,
      "outputs": []
    },
    {
      "cell_type": "code",
      "metadata": {
        "colab": {
          "base_uri": "https://localhost:8080/"
        },
        "id": "trnM4dygyIzv",
        "outputId": "8b860fe5-1636-4750-d2ef-9a99bd82c92a"
      },
      "source": [
        "#compiling and fitting model\n",
        "model.compile(loss='categorical_crossentropy',optimizer='adam',metrics=['accuracy'])\n",
        "model.fit(x_train,y_train,validation_data=(x_test, y_test),epochs=20,batch_size=batch_size)"
      ],
      "execution_count": null,
      "outputs": [
        {
          "output_type": "stream",
          "text": [
            "Epoch 1/20\n",
            "469/469 [==============================] - 35s 8ms/step - loss: 0.2759 - accuracy: 0.9165 - val_loss: 0.0580 - val_accuracy: 0.9823\n",
            "Epoch 2/20\n",
            "469/469 [==============================] - 3s 7ms/step - loss: 0.0722 - accuracy: 0.9776 - val_loss: 0.0408 - val_accuracy: 0.9863\n",
            "Epoch 3/20\n",
            "469/469 [==============================] - 3s 7ms/step - loss: 0.0513 - accuracy: 0.9845 - val_loss: 0.0315 - val_accuracy: 0.9895\n",
            "Epoch 4/20\n",
            "469/469 [==============================] - 3s 7ms/step - loss: 0.0423 - accuracy: 0.9868 - val_loss: 0.0291 - val_accuracy: 0.9904\n",
            "Epoch 5/20\n",
            "469/469 [==============================] - 3s 7ms/step - loss: 0.0366 - accuracy: 0.9883 - val_loss: 0.0262 - val_accuracy: 0.9914\n",
            "Epoch 6/20\n",
            "469/469 [==============================] - 3s 7ms/step - loss: 0.0312 - accuracy: 0.9905 - val_loss: 0.0233 - val_accuracy: 0.9918\n",
            "Epoch 7/20\n",
            "469/469 [==============================] - 3s 7ms/step - loss: 0.0272 - accuracy: 0.9914 - val_loss: 0.0217 - val_accuracy: 0.9931\n",
            "Epoch 8/20\n",
            "469/469 [==============================] - 3s 7ms/step - loss: 0.0246 - accuracy: 0.9921 - val_loss: 0.0214 - val_accuracy: 0.9922\n",
            "Epoch 9/20\n",
            "469/469 [==============================] - 3s 7ms/step - loss: 0.0218 - accuracy: 0.9933 - val_loss: 0.0212 - val_accuracy: 0.9923\n",
            "Epoch 10/20\n",
            "469/469 [==============================] - 3s 7ms/step - loss: 0.0199 - accuracy: 0.9936 - val_loss: 0.0201 - val_accuracy: 0.9940\n",
            "Epoch 11/20\n",
            "469/469 [==============================] - 3s 7ms/step - loss: 0.0167 - accuracy: 0.9946 - val_loss: 0.0207 - val_accuracy: 0.9935\n",
            "Epoch 12/20\n",
            "469/469 [==============================] - 3s 7ms/step - loss: 0.0157 - accuracy: 0.9948 - val_loss: 0.0220 - val_accuracy: 0.9935\n",
            "Epoch 13/20\n",
            "469/469 [==============================] - 3s 7ms/step - loss: 0.0145 - accuracy: 0.9954 - val_loss: 0.0212 - val_accuracy: 0.9934\n",
            "Epoch 14/20\n",
            "469/469 [==============================] - 3s 7ms/step - loss: 0.0129 - accuracy: 0.9955 - val_loss: 0.0242 - val_accuracy: 0.9924\n",
            "Epoch 15/20\n",
            "469/469 [==============================] - 3s 7ms/step - loss: 0.0131 - accuracy: 0.9957 - val_loss: 0.0228 - val_accuracy: 0.9940\n",
            "Epoch 16/20\n",
            "469/469 [==============================] - 3s 7ms/step - loss: 0.0113 - accuracy: 0.9964 - val_loss: 0.0260 - val_accuracy: 0.9930\n",
            "Epoch 17/20\n",
            "469/469 [==============================] - 3s 7ms/step - loss: 0.0107 - accuracy: 0.9965 - val_loss: 0.0239 - val_accuracy: 0.9933\n",
            "Epoch 18/20\n",
            "469/469 [==============================] - 3s 7ms/step - loss: 0.0099 - accuracy: 0.9967 - val_loss: 0.0235 - val_accuracy: 0.9937\n",
            "Epoch 19/20\n",
            "469/469 [==============================] - 3s 7ms/step - loss: 0.0102 - accuracy: 0.9963 - val_loss: 0.0238 - val_accuracy: 0.9937\n",
            "Epoch 20/20\n",
            "469/469 [==============================] - 3s 7ms/step - loss: 0.0081 - accuracy: 0.9973 - val_loss: 0.0274 - val_accuracy: 0.9926\n"
          ],
          "name": "stdout"
        },
        {
          "output_type": "execute_result",
          "data": {
            "text/plain": [
              "<tensorflow.python.keras.callbacks.History at 0x7f7b6f694810>"
            ]
          },
          "metadata": {
            "tags": []
          },
          "execution_count": 7
        }
      ]
    },
    {
      "cell_type": "code",
      "metadata": {
        "colab": {
          "base_uri": "https://localhost:8080/"
        },
        "id": "tti8tuEBxxU6",
        "outputId": "b4e36051-982c-468a-b070-b28e141624c4"
      },
      "source": [
        "# accuracy evaluation\n",
        "score = model.evaluate(x_test, y_test,batch_size=batch_size,verbose=0)\n",
        "print(\"Test accuracy: %.1f%%\" % (100.0 * score[1]))"
      ],
      "execution_count": null,
      "outputs": [
        {
          "output_type": "stream",
          "text": [
            "Test accuracy: 99.3%\n"
          ],
          "name": "stdout"
        }
      ]
    }
  ]
}